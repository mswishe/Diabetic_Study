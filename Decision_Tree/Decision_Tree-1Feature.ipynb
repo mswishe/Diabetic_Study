{
 "cells": [
  {
   "cell_type": "code",
   "execution_count": 1,
   "metadata": {},
   "outputs": [
    {
     "name": "stderr",
     "output_type": "stream",
     "text": [
      "C:\\Users\\molly\\Programs\\lib\\site-packages\\sklearn\\cross_validation.py:41: DeprecationWarning: This module was deprecated in version 0.18 in favor of the model_selection module into which all the refactored classes and functions are moved. Also note that the interface of the new CV iterators are different from that of this module. This module will be removed in 0.20.\n",
      "  \"This module will be removed in 0.20.\", DeprecationWarning)\n"
     ]
    }
   ],
   "source": [
    "import pandas as pd\n",
    "from sklearn.tree import DecisionTreeClassifier as DTC\n",
    "from sklearn.cross_validation import StratifiedKFold"
   ]
  },
  {
   "cell_type": "code",
   "execution_count": 2,
   "metadata": {},
   "outputs": [],
   "source": [
    "filename = \"ND_set.csv\""
   ]
  },
  {
   "cell_type": "code",
   "execution_count": 3,
   "metadata": {},
   "outputs": [
    {
     "data": {
      "text/plain": [
       "['Peptide1',\n",
       " 'Peptide2',\n",
       " 'Peptide3',\n",
       " 'Peptide4',\n",
       " 'Peptide5',\n",
       " 'Peptide6',\n",
       " 'Peptide7',\n",
       " 'Peptide8',\n",
       " 'Peptide9',\n",
       " 'Peptide10',\n",
       " 'Peptide11',\n",
       " 'Peptide12',\n",
       " 'Peptide13',\n",
       " 'Peptide14',\n",
       " 'Peptide15',\n",
       " 'Peptide16',\n",
       " 'Peptide17',\n",
       " 'Peptide18',\n",
       " 'Peptide21',\n",
       " 'Peptide22',\n",
       " 'Peptide23',\n",
       " 'Peptide24',\n",
       " 'Peptide25',\n",
       " 'Peptide26',\n",
       " 'Peptide27',\n",
       " 'Peptide29',\n",
       " 'Peptide30',\n",
       " 'Age',\n",
       " 'Diagnosis',\n",
       " 'HbA1c',\n",
       " 'Gender',\n",
       " 'Height',\n",
       " 'Bodyweight',\n",
       " 'BMI',\n",
       " 'Bodyfat',\n",
       " 'Fatfreemass',\n",
       " 'Waist',\n",
       " 'Hip',\n",
       " 'WHR',\n",
       " 'Hemoglobin',\n",
       " 'Erythrozyten',\n",
       " 'Thrombozyten',\n",
       " 'Leukocytes',\n",
       " 'ALAT',\n",
       " 'ASAT',\n",
       " 'gGT',\n",
       " 'Fastingplasmaglucose',\n",
       " 'Fastingplasmainsulin',\n",
       " 'C-Peptide',\n",
       " 'Proinsulin',\n",
       " 'Creatinin',\n",
       " 'Triglycerides',\n",
       " 'Cholesteroltotal',\n",
       " 'HDL-Cholesterol',\n",
       " 'LDL-Cholesterol',\n",
       " 'Proteinstotal',\n",
       " 'Albumin',\n",
       " 'TSH',\n",
       " 'fT3',\n",
       " 'fT4',\n",
       " 'Cortisol',\n",
       " 'Testosteron',\n",
       " 'HOMA-IR',\n",
       " 'Freefattyacids',\n",
       " 'RRsys',\n",
       " 'RRdia',\n",
       " 'ssCRP']"
      ]
     },
     "execution_count": 3,
     "metadata": {},
     "output_type": "execute_result"
    }
   ],
   "source": [
    "# some headers contain special chars, like (kg/m^2), which can cause problems so we need to remove them\n",
    "header = open(filename).readlines()[0]\n",
    "header = header.strip().split(\",\")[1:]\n",
    "for i in range(len(header)):\n",
    "    header[i] = header[i].split(\"(\")[0].replace(' ','')\n",
    "header"
   ]
  },
  {
   "cell_type": "code",
   "execution_count": 4,
   "metadata": {},
   "outputs": [],
   "source": [
    "# read in the data, \n",
    "df = pd.read_csv(filename,index_col=0,skiprows=[0],header=None,names=header)"
   ]
  },
  {
   "cell_type": "code",
   "execution_count": 5,
   "metadata": {},
   "outputs": [
    {
     "data": {
      "text/plain": [
       "(96, 67)"
      ]
     },
     "execution_count": 5,
     "metadata": {},
     "output_type": "execute_result"
    }
   ],
   "source": [
    "df.shape"
   ]
  },
  {
   "cell_type": "code",
   "execution_count": 6,
   "metadata": {},
   "outputs": [
    {
     "data": {
      "text/html": [
       "<div>\n",
       "<style scoped>\n",
       "    .dataframe tbody tr th:only-of-type {\n",
       "        vertical-align: middle;\n",
       "    }\n",
       "\n",
       "    .dataframe tbody tr th {\n",
       "        vertical-align: top;\n",
       "    }\n",
       "\n",
       "    .dataframe thead th {\n",
       "        text-align: right;\n",
       "    }\n",
       "</style>\n",
       "<table border=\"1\" class=\"dataframe\">\n",
       "  <thead>\n",
       "    <tr style=\"text-align: right;\">\n",
       "      <th></th>\n",
       "      <th>Peptide1</th>\n",
       "      <th>Peptide2</th>\n",
       "      <th>Peptide3</th>\n",
       "      <th>Peptide4</th>\n",
       "      <th>Peptide5</th>\n",
       "      <th>Peptide6</th>\n",
       "      <th>Peptide7</th>\n",
       "      <th>Peptide8</th>\n",
       "      <th>Peptide9</th>\n",
       "      <th>Peptide10</th>\n",
       "      <th>...</th>\n",
       "      <th>TSH</th>\n",
       "      <th>fT3</th>\n",
       "      <th>fT4</th>\n",
       "      <th>Cortisol</th>\n",
       "      <th>Testosteron</th>\n",
       "      <th>HOMA-IR</th>\n",
       "      <th>Freefattyacids</th>\n",
       "      <th>RRsys</th>\n",
       "      <th>RRdia</th>\n",
       "      <th>ssCRP</th>\n",
       "    </tr>\n",
       "  </thead>\n",
       "  <tbody>\n",
       "    <tr>\n",
       "      <th>sample 2</th>\n",
       "      <td>33.58</td>\n",
       "      <td>7.18</td>\n",
       "      <td>9.35</td>\n",
       "      <td>3.57</td>\n",
       "      <td>94.44</td>\n",
       "      <td>14.91</td>\n",
       "      <td>153.05</td>\n",
       "      <td>35.52</td>\n",
       "      <td>9.76</td>\n",
       "      <td>71.20</td>\n",
       "      <td>...</td>\n",
       "      <td>0.72</td>\n",
       "      <td>5.23</td>\n",
       "      <td>21.5</td>\n",
       "      <td>NaN</td>\n",
       "      <td>NaN</td>\n",
       "      <td>7.2</td>\n",
       "      <td>0.30</td>\n",
       "      <td>NaN</td>\n",
       "      <td>NaN</td>\n",
       "      <td>0.48</td>\n",
       "    </tr>\n",
       "    <tr>\n",
       "      <th>sample 3</th>\n",
       "      <td>37.57</td>\n",
       "      <td>8.70</td>\n",
       "      <td>10.79</td>\n",
       "      <td>3.36</td>\n",
       "      <td>94.11</td>\n",
       "      <td>15.99</td>\n",
       "      <td>198.88</td>\n",
       "      <td>39.65</td>\n",
       "      <td>8.62</td>\n",
       "      <td>75.48</td>\n",
       "      <td>...</td>\n",
       "      <td>0.97</td>\n",
       "      <td>NaN</td>\n",
       "      <td>NaN</td>\n",
       "      <td>NaN</td>\n",
       "      <td>NaN</td>\n",
       "      <td>9.3</td>\n",
       "      <td>1.04</td>\n",
       "      <td>NaN</td>\n",
       "      <td>NaN</td>\n",
       "      <td>7.15</td>\n",
       "    </tr>\n",
       "    <tr>\n",
       "      <th>sample 4</th>\n",
       "      <td>27.31</td>\n",
       "      <td>5.42</td>\n",
       "      <td>5.64</td>\n",
       "      <td>2.75</td>\n",
       "      <td>67.01</td>\n",
       "      <td>11.91</td>\n",
       "      <td>148.32</td>\n",
       "      <td>28.90</td>\n",
       "      <td>5.64</td>\n",
       "      <td>59.26</td>\n",
       "      <td>...</td>\n",
       "      <td>1.02</td>\n",
       "      <td>5.01</td>\n",
       "      <td>17.6</td>\n",
       "      <td>NaN</td>\n",
       "      <td>NaN</td>\n",
       "      <td>9.1</td>\n",
       "      <td>0.37</td>\n",
       "      <td>NaN</td>\n",
       "      <td>NaN</td>\n",
       "      <td>NaN</td>\n",
       "    </tr>\n",
       "    <tr>\n",
       "      <th>sample 5</th>\n",
       "      <td>29.09</td>\n",
       "      <td>5.81</td>\n",
       "      <td>4.69</td>\n",
       "      <td>3.61</td>\n",
       "      <td>65.99</td>\n",
       "      <td>12.42</td>\n",
       "      <td>154.55</td>\n",
       "      <td>26.48</td>\n",
       "      <td>6.38</td>\n",
       "      <td>53.50</td>\n",
       "      <td>...</td>\n",
       "      <td>1.00</td>\n",
       "      <td>4.61</td>\n",
       "      <td>15.7</td>\n",
       "      <td>NaN</td>\n",
       "      <td>NaN</td>\n",
       "      <td>24.5</td>\n",
       "      <td>0.99</td>\n",
       "      <td>168.0</td>\n",
       "      <td>95.0</td>\n",
       "      <td>0.20</td>\n",
       "    </tr>\n",
       "    <tr>\n",
       "      <th>sample 6</th>\n",
       "      <td>41.13</td>\n",
       "      <td>8.40</td>\n",
       "      <td>8.85</td>\n",
       "      <td>3.56</td>\n",
       "      <td>109.13</td>\n",
       "      <td>17.60</td>\n",
       "      <td>209.62</td>\n",
       "      <td>44.35</td>\n",
       "      <td>10.43</td>\n",
       "      <td>84.78</td>\n",
       "      <td>...</td>\n",
       "      <td>1.30</td>\n",
       "      <td>5.43</td>\n",
       "      <td>19.2</td>\n",
       "      <td>NaN</td>\n",
       "      <td>NaN</td>\n",
       "      <td>11.1</td>\n",
       "      <td>0.54</td>\n",
       "      <td>165.0</td>\n",
       "      <td>84.0</td>\n",
       "      <td>0.30</td>\n",
       "    </tr>\n",
       "  </tbody>\n",
       "</table>\n",
       "<p>5 rows × 67 columns</p>\n",
       "</div>"
      ],
      "text/plain": [
       "          Peptide1  Peptide2  Peptide3  Peptide4  Peptide5  Peptide6  \\\n",
       "sample 2     33.58      7.18      9.35      3.57     94.44     14.91   \n",
       "sample 3     37.57      8.70     10.79      3.36     94.11     15.99   \n",
       "sample 4     27.31      5.42      5.64      2.75     67.01     11.91   \n",
       "sample 5     29.09      5.81      4.69      3.61     65.99     12.42   \n",
       "sample 6     41.13      8.40      8.85      3.56    109.13     17.60   \n",
       "\n",
       "          Peptide7  Peptide8  Peptide9  Peptide10  ...     TSH   fT3   fT4  \\\n",
       "sample 2    153.05     35.52      9.76      71.20  ...    0.72  5.23  21.5   \n",
       "sample 3    198.88     39.65      8.62      75.48  ...    0.97   NaN   NaN   \n",
       "sample 4    148.32     28.90      5.64      59.26  ...    1.02  5.01  17.6   \n",
       "sample 5    154.55     26.48      6.38      53.50  ...    1.00  4.61  15.7   \n",
       "sample 6    209.62     44.35     10.43      84.78  ...    1.30  5.43  19.2   \n",
       "\n",
       "          Cortisol  Testosteron  HOMA-IR  Freefattyacids  RRsys  RRdia  ssCRP  \n",
       "sample 2       NaN          NaN      7.2            0.30    NaN    NaN   0.48  \n",
       "sample 3       NaN          NaN      9.3            1.04    NaN    NaN   7.15  \n",
       "sample 4       NaN          NaN      9.1            0.37    NaN    NaN    NaN  \n",
       "sample 5       NaN          NaN     24.5            0.99  168.0   95.0   0.20  \n",
       "sample 6       NaN          NaN     11.1            0.54  165.0   84.0   0.30  \n",
       "\n",
       "[5 rows x 67 columns]"
      ]
     },
     "execution_count": 6,
     "metadata": {},
     "output_type": "execute_result"
    }
   ],
   "source": [
    "df.head()"
   ]
  },
  {
   "cell_type": "code",
   "execution_count": 7,
   "metadata": {
    "scrolled": true
   },
   "outputs": [
    {
     "data": {
      "text/html": [
       "<div>\n",
       "<style scoped>\n",
       "    .dataframe tbody tr th:only-of-type {\n",
       "        vertical-align: middle;\n",
       "    }\n",
       "\n",
       "    .dataframe tbody tr th {\n",
       "        vertical-align: top;\n",
       "    }\n",
       "\n",
       "    .dataframe thead th {\n",
       "        text-align: right;\n",
       "    }\n",
       "</style>\n",
       "<table border=\"1\" class=\"dataframe\">\n",
       "  <thead>\n",
       "    <tr style=\"text-align: right;\">\n",
       "      <th></th>\n",
       "      <th>Peptide1</th>\n",
       "      <th>Peptide2</th>\n",
       "      <th>Peptide3</th>\n",
       "      <th>Peptide4</th>\n",
       "      <th>Peptide5</th>\n",
       "      <th>Peptide6</th>\n",
       "      <th>Peptide7</th>\n",
       "      <th>Peptide8</th>\n",
       "      <th>Peptide9</th>\n",
       "      <th>Peptide10</th>\n",
       "      <th>...</th>\n",
       "      <th>TSH</th>\n",
       "      <th>fT3</th>\n",
       "      <th>fT4</th>\n",
       "      <th>Cortisol</th>\n",
       "      <th>Testosteron</th>\n",
       "      <th>HOMA-IR</th>\n",
       "      <th>Freefattyacids</th>\n",
       "      <th>RRsys</th>\n",
       "      <th>RRdia</th>\n",
       "      <th>ssCRP</th>\n",
       "    </tr>\n",
       "  </thead>\n",
       "  <tbody>\n",
       "    <tr>\n",
       "      <th>sample 2</th>\n",
       "      <td>33.58</td>\n",
       "      <td>7.18</td>\n",
       "      <td>9.35</td>\n",
       "      <td>3.57</td>\n",
       "      <td>94.44</td>\n",
       "      <td>14.91</td>\n",
       "      <td>153.05</td>\n",
       "      <td>35.52</td>\n",
       "      <td>9.76</td>\n",
       "      <td>71.20</td>\n",
       "      <td>...</td>\n",
       "      <td>0.72</td>\n",
       "      <td>5.230000</td>\n",
       "      <td>21.500000</td>\n",
       "      <td>256.9552</td>\n",
       "      <td>38.047609</td>\n",
       "      <td>7.2</td>\n",
       "      <td>0.30</td>\n",
       "      <td>133.980392</td>\n",
       "      <td>84.862745</td>\n",
       "      <td>0.480000</td>\n",
       "    </tr>\n",
       "    <tr>\n",
       "      <th>sample 3</th>\n",
       "      <td>37.57</td>\n",
       "      <td>8.70</td>\n",
       "      <td>10.79</td>\n",
       "      <td>3.36</td>\n",
       "      <td>94.11</td>\n",
       "      <td>15.99</td>\n",
       "      <td>198.88</td>\n",
       "      <td>39.65</td>\n",
       "      <td>8.62</td>\n",
       "      <td>75.48</td>\n",
       "      <td>...</td>\n",
       "      <td>0.97</td>\n",
       "      <td>5.151061</td>\n",
       "      <td>16.621212</td>\n",
       "      <td>256.9552</td>\n",
       "      <td>38.047609</td>\n",
       "      <td>9.3</td>\n",
       "      <td>1.04</td>\n",
       "      <td>133.980392</td>\n",
       "      <td>84.862745</td>\n",
       "      <td>7.150000</td>\n",
       "    </tr>\n",
       "    <tr>\n",
       "      <th>sample 4</th>\n",
       "      <td>27.31</td>\n",
       "      <td>5.42</td>\n",
       "      <td>5.64</td>\n",
       "      <td>2.75</td>\n",
       "      <td>67.01</td>\n",
       "      <td>11.91</td>\n",
       "      <td>148.32</td>\n",
       "      <td>28.90</td>\n",
       "      <td>5.64</td>\n",
       "      <td>59.26</td>\n",
       "      <td>...</td>\n",
       "      <td>1.02</td>\n",
       "      <td>5.010000</td>\n",
       "      <td>17.600000</td>\n",
       "      <td>256.9552</td>\n",
       "      <td>38.047609</td>\n",
       "      <td>9.1</td>\n",
       "      <td>0.37</td>\n",
       "      <td>133.980392</td>\n",
       "      <td>84.862745</td>\n",
       "      <td>2.520263</td>\n",
       "    </tr>\n",
       "    <tr>\n",
       "      <th>sample 5</th>\n",
       "      <td>29.09</td>\n",
       "      <td>5.81</td>\n",
       "      <td>4.69</td>\n",
       "      <td>3.61</td>\n",
       "      <td>65.99</td>\n",
       "      <td>12.42</td>\n",
       "      <td>154.55</td>\n",
       "      <td>26.48</td>\n",
       "      <td>6.38</td>\n",
       "      <td>53.50</td>\n",
       "      <td>...</td>\n",
       "      <td>1.00</td>\n",
       "      <td>4.610000</td>\n",
       "      <td>15.700000</td>\n",
       "      <td>256.9552</td>\n",
       "      <td>38.047609</td>\n",
       "      <td>24.5</td>\n",
       "      <td>0.99</td>\n",
       "      <td>168.000000</td>\n",
       "      <td>95.000000</td>\n",
       "      <td>0.200000</td>\n",
       "    </tr>\n",
       "    <tr>\n",
       "      <th>sample 6</th>\n",
       "      <td>41.13</td>\n",
       "      <td>8.40</td>\n",
       "      <td>8.85</td>\n",
       "      <td>3.56</td>\n",
       "      <td>109.13</td>\n",
       "      <td>17.60</td>\n",
       "      <td>209.62</td>\n",
       "      <td>44.35</td>\n",
       "      <td>10.43</td>\n",
       "      <td>84.78</td>\n",
       "      <td>...</td>\n",
       "      <td>1.30</td>\n",
       "      <td>5.430000</td>\n",
       "      <td>19.200000</td>\n",
       "      <td>256.9552</td>\n",
       "      <td>38.047609</td>\n",
       "      <td>11.1</td>\n",
       "      <td>0.54</td>\n",
       "      <td>165.000000</td>\n",
       "      <td>84.000000</td>\n",
       "      <td>0.300000</td>\n",
       "    </tr>\n",
       "  </tbody>\n",
       "</table>\n",
       "<p>5 rows × 67 columns</p>\n",
       "</div>"
      ],
      "text/plain": [
       "          Peptide1  Peptide2  Peptide3  Peptide4  Peptide5  Peptide6  \\\n",
       "sample 2     33.58      7.18      9.35      3.57     94.44     14.91   \n",
       "sample 3     37.57      8.70     10.79      3.36     94.11     15.99   \n",
       "sample 4     27.31      5.42      5.64      2.75     67.01     11.91   \n",
       "sample 5     29.09      5.81      4.69      3.61     65.99     12.42   \n",
       "sample 6     41.13      8.40      8.85      3.56    109.13     17.60   \n",
       "\n",
       "          Peptide7  Peptide8  Peptide9  Peptide10    ...      TSH       fT3  \\\n",
       "sample 2    153.05     35.52      9.76      71.20    ...     0.72  5.230000   \n",
       "sample 3    198.88     39.65      8.62      75.48    ...     0.97  5.151061   \n",
       "sample 4    148.32     28.90      5.64      59.26    ...     1.02  5.010000   \n",
       "sample 5    154.55     26.48      6.38      53.50    ...     1.00  4.610000   \n",
       "sample 6    209.62     44.35     10.43      84.78    ...     1.30  5.430000   \n",
       "\n",
       "                fT4  Cortisol  Testosteron  HOMA-IR  Freefattyacids  \\\n",
       "sample 2  21.500000  256.9552    38.047609      7.2            0.30   \n",
       "sample 3  16.621212  256.9552    38.047609      9.3            1.04   \n",
       "sample 4  17.600000  256.9552    38.047609      9.1            0.37   \n",
       "sample 5  15.700000  256.9552    38.047609     24.5            0.99   \n",
       "sample 6  19.200000  256.9552    38.047609     11.1            0.54   \n",
       "\n",
       "               RRsys      RRdia     ssCRP  \n",
       "sample 2  133.980392  84.862745  0.480000  \n",
       "sample 3  133.980392  84.862745  7.150000  \n",
       "sample 4  133.980392  84.862745  2.520263  \n",
       "sample 5  168.000000  95.000000  0.200000  \n",
       "sample 6  165.000000  84.000000  0.300000  \n",
       "\n",
       "[5 rows x 67 columns]"
      ]
     },
     "execution_count": 7,
     "metadata": {},
     "output_type": "execute_result"
    }
   ],
   "source": [
    "# The WHR column has some spaces, which causes the read_csv function not able to read it as float\n",
    "# fill empty spaces with the average of the column\n",
    "df['WHR'] = pd.to_numeric(df['WHR'].str.replace(' ',''))\n",
    "df = df.fillna(df.mean())\n",
    "df.head()"
   ]
  },
  {
   "cell_type": "code",
   "execution_count": 8,
   "metadata": {},
   "outputs": [],
   "source": [
    "# removing the gender column since it's all male\n",
    "df = df.drop('Gender',axis=1)"
   ]
  },
  {
   "cell_type": "code",
   "execution_count": 9,
   "metadata": {},
   "outputs": [
    {
     "data": {
      "text/plain": [
       "(96, 66)"
      ]
     },
     "execution_count": 9,
     "metadata": {},
     "output_type": "execute_result"
    }
   ],
   "source": [
    "df.shape"
   ]
  },
  {
   "cell_type": "markdown",
   "metadata": {},
   "source": [
    "Classification Concepts"
   ]
  },
  {
   "cell_type": "markdown",
   "metadata": {},
   "source": [
    "Target variable"
   ]
  },
  {
   "cell_type": "markdown",
   "metadata": {},
   "source": [
    "Target variable is the label, basically, you want to build a model so that it can predict the target value.\n",
    "This variable is often times refered as 'Y'."
   ]
  },
  {
   "cell_type": "markdown",
   "metadata": {},
   "source": [
    "Feature variables"
   ]
  },
  {
   "cell_type": "markdown",
   "metadata": {},
   "source": [
    "Feature variables are the measurements. Basically, you want to use these features to predict the target value.\n",
    "The features together, is refered as 'X'.Feature variables are the measurements. Basically, you want to use these features to predict the target value.\n",
    "The features together, is refered as 'X'."
   ]
  },
  {
   "cell_type": "code",
   "execution_count": 10,
   "metadata": {},
   "outputs": [
    {
     "data": {
      "text/plain": [
       "sample 2      1\n",
       "sample 3      1\n",
       "sample 4      1\n",
       "sample 5      1\n",
       "sample 6      1\n",
       "sample 7      1\n",
       "sample 8      1\n",
       "sample 9      0\n",
       "sample 10     1\n",
       "sample 11     0\n",
       "Sample 12     1\n",
       "Sample 13     1\n",
       "Sample 14     1\n",
       "Sample 15     0\n",
       "Sample 16     1\n",
       "Sample 17     1\n",
       "Sample 18     1\n",
       "Sample 19     1\n",
       "Sample 20     1\n",
       "Sample 21     1\n",
       "Sample 22     1\n",
       "Sample 23     0\n",
       "Sample 24     1\n",
       "Sample 25     1\n",
       "Sample 26     0\n",
       "Sample 27     0\n",
       "Sample 28     1\n",
       "Sample 29     1\n",
       "Sample 30     1\n",
       "Sample 31     0\n",
       "             ..\n",
       "Sample 71     1\n",
       "Sample 72     1\n",
       "Sample 73     1\n",
       "Sample 74     1\n",
       "Sample 75     1\n",
       "Sample 76     1\n",
       "Sample 77     1\n",
       "Sample 78     1\n",
       "Sample 79     0\n",
       "Sample 80     0\n",
       "Sample 81     1\n",
       "Sample 82     1\n",
       "Sample 83     1\n",
       "Sample 84     0\n",
       "Sample 85     0\n",
       "Sample 86     0\n",
       "Sample 87     0\n",
       "Sample 88     0\n",
       "Sample 89     0\n",
       "Sample 90     0\n",
       "Sample 91     1\n",
       "Sample 92     1\n",
       "Sample 93     0\n",
       "Sample 94     0\n",
       "Sample 95     0\n",
       "Sample 96     1\n",
       "Sample 97     0\n",
       "Sample 98     0\n",
       "Sample 99     1\n",
       "Sample 100    0\n",
       "Name: Diagnosis, Length: 96, dtype: int64"
      ]
     },
     "execution_count": 10,
     "metadata": {},
     "output_type": "execute_result"
    }
   ],
   "source": [
    "mapping = {} # the key value will be replaced to 1 and 0\n",
    "mapping['T2D'] = 1\n",
    "mapping['NGT'] = 0\n",
    "target = df.Diagnosis.replace(mapping) # here I'm using target, instead of Y, just for ease of understanding. I don't do this usually.\n",
    "target"
   ]
  },
  {
   "cell_type": "markdown",
   "metadata": {},
   "source": [
    "X should not contain the target values, so let's remove that column"
   ]
  },
  {
   "cell_type": "code",
   "execution_count": 11,
   "metadata": {},
   "outputs": [],
   "source": [
    "X = df.drop('Diagnosis',axis=1)"
   ]
  },
  {
   "cell_type": "markdown",
   "metadata": {},
   "source": [
    "K-fold cross validation"
   ]
  },
  {
   "cell_type": "markdown",
   "metadata": {},
   "source": [
    "K-fold"
   ]
  },
  {
   "cell_type": "markdown",
   "metadata": {},
   "source": [
    "Divide your data into k pieces\n"
   ]
  },
  {
   "cell_type": "markdown",
   "metadata": {},
   "source": [
    "cross validation"
   ]
  },
  {
   "cell_type": "markdown",
   "metadata": {},
   "source": [
    "Use (k-1) folds to train and use the remaining 1 fold to test\n",
    "Therefore you will have a list of accuracies. In the end, you tell us the average.\n",
    "This procedure is called cross validation, or CV."
   ]
  },
  {
   "cell_type": "code",
   "execution_count": 12,
   "metadata": {},
   "outputs": [],
   "source": [
    "from sklearn.metrics import confusion_matrix\n",
    "import numpy as np\n",
    "head_acc = {}\n",
    "head_list = []\n",
    "for h in header:\n",
    "    head_list.append(h)\n",
    "head_list.remove('Diagnosis')\n",
    "head_list.remove('Gender')"
   ]
  },
  {
   "cell_type": "markdown",
   "metadata": {},
   "source": [
    "finding the accuracy when using one feature at a time"
   ]
  },
  {
   "cell_type": "code",
   "execution_count": 13,
   "metadata": {},
   "outputs": [
    {
     "data": {
      "text/plain": [
       "{'Peptide1': 0.6575,\n",
       " 'Peptide2': 0.6775,\n",
       " 'Peptide3': 0.6449999999999999,\n",
       " 'Peptide4': 0.6725,\n",
       " 'Peptide5': 0.6799999999999999,\n",
       " 'Peptide6': 0.6300000000000001,\n",
       " 'Peptide7': 0.6575,\n",
       " 'Peptide8': 0.725,\n",
       " 'Peptide9': 0.6649999999999999,\n",
       " 'Peptide10': 0.6649999999999999,\n",
       " 'Peptide11': 0.7074999999999999,\n",
       " 'Peptide12': 0.655,\n",
       " 'Peptide13': 0.5925,\n",
       " 'Peptide14': 0.7025,\n",
       " 'Peptide15': 0.64,\n",
       " 'Peptide16': 0.6025,\n",
       " 'Peptide17': 0.61,\n",
       " 'Peptide18': 0.75,\n",
       " 'Peptide21': 0.61,\n",
       " 'Peptide22': 0.63,\n",
       " 'Peptide23': 0.6699999999999999,\n",
       " 'Peptide24': 0.72,\n",
       " 'Peptide25': 0.565,\n",
       " 'Peptide26': 0.595,\n",
       " 'Peptide27': 0.7424999999999999,\n",
       " 'Peptide29': 0.49250000000000005,\n",
       " 'Peptide30': 0.67,\n",
       " 'Age': 0.52,\n",
       " 'HbA1c': 0.8475000000000001,\n",
       " 'Height': 0.5,\n",
       " 'Bodyweight': 0.545,\n",
       " 'BMI': 0.595,\n",
       " 'Bodyfat': 0.6125,\n",
       " 'Fatfreemass': 0.4425,\n",
       " 'Waist': 0.5325,\n",
       " 'Hip': 0.49000000000000005,\n",
       " 'WHR': 0.4925,\n",
       " 'Hemoglobin': 0.3825,\n",
       " 'Erythrozyten': 0.585,\n",
       " 'Thrombozyten': 0.45999999999999996,\n",
       " 'Leukocytes': 0.48,\n",
       " 'ALAT': 0.6025,\n",
       " 'ASAT': 0.4574999999999999,\n",
       " 'gGT': 0.49749999999999994,\n",
       " 'Fastingplasmaglucose': 0.8125,\n",
       " 'Fastingplasmainsulin': 0.6575,\n",
       " 'C-Peptide': 0.605,\n",
       " 'Proinsulin': 0.5,\n",
       " 'Creatinin': 0.525,\n",
       " 'Triglycerides': 0.6325000000000001,\n",
       " 'Cholesteroltotal': 0.525,\n",
       " 'HDL-Cholesterol': 0.425,\n",
       " 'LDL-Cholesterol': 0.40499999999999997,\n",
       " 'Proteinstotal': 0.47000000000000003,\n",
       " 'Albumin': 0.42750000000000005,\n",
       " 'TSH': 0.5725,\n",
       " 'fT3': 0.4575,\n",
       " 'fT4': 0.5125,\n",
       " 'Cortisol': 0.6174999999999999,\n",
       " 'Testosteron': 0.6475,\n",
       " 'HOMA-IR': 0.705,\n",
       " 'Freefattyacids': 0.8775000000000001,\n",
       " 'RRsys': 0.48500000000000004,\n",
       " 'RRdia': 0.4225,\n",
       " 'ssCRP': 0.37}"
      ]
     },
     "execution_count": 13,
     "metadata": {},
     "output_type": "execute_result"
    }
   ],
   "source": [
    "for head in head_list:\n",
    "    acc_list = []\n",
    "    se_list = []\n",
    "    sp_list = []\n",
    "    subX = X[[head]]\n",
    "    for train_index, test_index in StratifiedKFold(target, n_folds=10,shuffle=True):\n",
    "        train_x = subX.iloc[train_index,:]\n",
    "        train_y = target[train_index]\n",
    "        test_x = subX.iloc[test_index,:]\n",
    "        test_y = target[test_index]\n",
    "        dt_clf=DTC(max_depth = 2)\n",
    "        dt_clf.fit(train_x, train_y)\n",
    "        y_pred_dt = dt_clf.predict(test_x)\n",
    "        tn, fp, fn, tp = confusion_matrix(test_y, y_pred_dt).ravel()\n",
    "        accuracy = (tp+tn)/(tn+tp+fn+fp)\n",
    "        sensitivity = tp/(fn+tp)\n",
    "        specificity = tn/(tn+fp)\n",
    "        acc_list.append(accuracy)\n",
    "        se_list.append(sensitivity)\n",
    "        sp_list.append(specificity)\n",
    "    head_acc[head] = np.mean(acc_list)\n",
    "head_acc"
   ]
  },
  {
   "cell_type": "markdown",
   "metadata": {},
   "source": [
    "below is the code to show a diagram of the decision tree"
   ]
  },
  {
   "cell_type": "markdown",
   "metadata": {},
   "source": [
    "from sklearn.tree import export_graphviz\n",
    "from IPython.display import SVG\n",
    "from graphviz import Source\n",
    "graph = Source(export_graphviz(dt_clf, out_file=None, feature_names=['Peptide1']))\n",
    "SVG(graph.pipe(format='svg'))"
   ]
  },
  {
   "cell_type": "code",
   "execution_count": null,
   "metadata": {
    "scrolled": true
   },
   "outputs": [],
   "source": []
  },
  {
   "cell_type": "code",
   "execution_count": null,
   "metadata": {},
   "outputs": [],
   "source": []
  },
  {
   "cell_type": "code",
   "execution_count": null,
   "metadata": {},
   "outputs": [],
   "source": []
  },
  {
   "cell_type": "code",
   "execution_count": null,
   "metadata": {},
   "outputs": [],
   "source": []
  }
 ],
 "metadata": {
  "kernelspec": {
   "display_name": "Python 3",
   "language": "python",
   "name": "python3"
  },
  "language_info": {
   "codemirror_mode": {
    "name": "ipython",
    "version": 3
   },
   "file_extension": ".py",
   "mimetype": "text/x-python",
   "name": "python",
   "nbconvert_exporter": "python",
   "pygments_lexer": "ipython3",
   "version": "3.6.5"
  }
 },
 "nbformat": 4,
 "nbformat_minor": 2
}
